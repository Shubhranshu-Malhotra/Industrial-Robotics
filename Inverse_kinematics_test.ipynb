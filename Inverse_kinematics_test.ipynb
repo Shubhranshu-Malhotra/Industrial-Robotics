{
 "cells": [
  {
   "cell_type": "code",
   "execution_count": 4,
   "metadata": {},
   "outputs": [],
   "source": [
    "import math\n",
    "import numpy as np"
   ]
  },
  {
   "cell_type": "code",
   "execution_count": 5,
   "metadata": {},
   "outputs": [],
   "source": [
    "a1z=650\n",
    "a2x=400\n",
    "a2z=680\n",
    "a3z=1100\n",
    "a4z=230\n",
    "a4x=766\n",
    "a5x=345\n",
    "a6x=244"
   ]
  },
  {
   "cell_type": "code",
   "execution_count": 8,
   "metadata": {},
   "outputs": [],
   "source": [
    "A=250*math.pi/180\n",
    "B=0*math.pi/180\n",
    "C=-90*math.pi/180\n",
    "X=600\n",
    "Y=-1000\n",
    "Z=3300\n",
    "# X=1755\n",
    "# Y=0\n",
    "# Z=2660"
   ]
  },
  {
   "cell_type": "code",
   "execution_count": 9,
   "metadata": {},
   "outputs": [
    {
     "name": "stdout",
     "output_type": "stream",
     "text": [
      "[[ 6.12323400e-17 -3.42020143e-01  9.39692621e-01]\n",
      " [-1.00000000e+00 -2.09426937e-17  5.75395780e-17]\n",
      " [-0.00000000e+00 -9.39692621e-01 -3.42020143e-01]]\n"
     ]
    }
   ],
   "source": [
    "# Forming rotation matrix from A, B, C\n",
    "\n",
    "R=np.array([[np.cos(C)*np.cos(B),np.cos(C)*np.sin(B)*np.sin(A)-np.sin(C)*np.cos(A),np.cos(C)*np.sin(B)*np.cos(A)+np.sin(C)*np.sin(A)],[np.sin(C)*np.cos(B),np.cos(C)*np.cos(A)+np.sin(C)*np.sin(B)*np.sin(A),np.sin(C)*np.sin(B)*np.cos(A)-np.cos(C)*np.sin(A)],[-np.sin(B),np.cos(B)*np.sin(A),np.cos(B)*np.cos(A)]])\n",
    "print(R)"
   ]
  },
  {
   "cell_type": "code",
   "execution_count": 10,
   "metadata": {},
   "outputs": [],
   "source": [
    "# Finding the wrist point\n",
    "\n",
    "WPx=X-a6x*(R[0,0])\n",
    "WPy=Y-a6x*(R[1,0])\n",
    "WPz=Z-a6x*(R[2,0])\n",
    "# print(WPx)\n",
    "# print(WPy)\n",
    "# print(WPz)"
   ]
  },
  {
   "cell_type": "code",
   "execution_count": 11,
   "metadata": {},
   "outputs": [],
   "source": [
    "# Calculating J2\n",
    "\n",
    "WPxy=math.sqrt((WPx**2)+(WPy**2))\n",
    "l=WPxy-a2x # + or - a2x\n",
    "h=WPz-a1z-a2z\n",
    "rho=math.sqrt(h**2+l**2)\n",
    "b4x=math.sqrt(a4z**2+((a4x+a5x)**2))\n",
    "# print(WPxy)\n",
    "# print(l)\n",
    "# print(h)\n",
    "# print(rho)\n",
    "# print(b4x)"
   ]
  },
  {
   "cell_type": "code",
   "execution_count": 12,
   "metadata": {},
   "outputs": [
    {
     "name": "stdout",
     "output_type": "stream",
     "text": [
      "OK\n"
     ]
    }
   ],
   "source": [
    "if(rho<a3z+b4x):\n",
    "    if(rho>a3z-b4x):\n",
    "        print(\"OK\")\n",
    "else:\n",
    "    print(\"error\")"
   ]
  },
  {
   "cell_type": "code",
   "execution_count": 13,
   "metadata": {},
   "outputs": [
    {
     "name": "stdout",
     "output_type": "stream",
     "text": [
      "J1 in radian:  -0.8999388601941296\n",
      "J1 in degrees:  -51.562698508937466\n"
     ]
    }
   ],
   "source": [
    "#Calculate J1 in radian and degrees\n",
    "\n",
    "J1=math.atan2(WPy,WPx)\n",
    "print(\"J1 in radian: \", J1)\n",
    "J1deg=(J1*180/math.pi)\n",
    "print(\"J1 in degrees: \", J1deg)"
   ]
  },
  {
   "cell_type": "code",
   "execution_count": 14,
   "metadata": {},
   "outputs": [
    {
     "name": "stdout",
     "output_type": "stream",
     "text": [
      "J2 in radian:  -0.13727291358291166\n",
      "J2 in degrees:  -7.865158589764911\n"
     ]
    }
   ],
   "source": [
    "alpha=math.atan2(h,l)\n",
    "cos_beta=(((rho**2)+(a3z**2)-(b4x**2))/(2*rho*a3z))\n",
    "beta=math.atan2(math.sqrt(1-(cos_beta**2)),cos_beta)\n",
    "J2=(math.pi/2)-(alpha)-(beta) #+ or - beta\n",
    "print(\"J2 in radian: \", J2)\n",
    "J2deg=(J2*180/math.pi)\n",
    "print(\"J2 in degrees: \", J2deg)\n",
    "# print(alpha)\n",
    "# print(beta)"
   ]
  },
  {
   "cell_type": "code",
   "execution_count": 15,
   "metadata": {},
   "outputs": [
    {
     "name": "stdout",
     "output_type": "stream",
     "text": [
      "J3 in radian:  -0.5467928426202202\n",
      "J3 in degrees:  -31.328922150099658\n"
     ]
    }
   ],
   "source": [
    "delta=math.atan2(a5x+a4x,a4z)\n",
    "cos_gama=(((a3z**2)+(b4x**2)-(rho**2))/(2*b4x*a3z))\n",
    "gama=math.atan2(math.sqrt(1-(cos_gama**2)),cos_gama)\n",
    "J3=(math.pi)-(delta)-(gama)\n",
    "print(\"J3 in radian: \", J3)\n",
    "J3deg=(J3*180/math.pi)\n",
    "print(\"J3 in degrees: \", J3deg)"
   ]
  },
  {
   "cell_type": "code",
   "execution_count": 16,
   "metadata": {},
   "outputs": [
    {
     "name": "stdout",
     "output_type": "stream",
     "text": [
      "[[ 0.48179092  0.7832889  -0.39285621]\n",
      " [-0.60705656  0.62165786  0.49499883]\n",
      " [ 0.63194924  0.          0.77500978]]\n"
     ]
    }
   ],
   "source": [
    "Rarm = np.array([[np.cos(J1)*np.cos(J2+J3),-np.sin(J1),np.cos(J1)*np.sin(J2+J3)],[np.sin(J1)*np.cos(J2+J3),np.cos(J1),np.sin(J1)*np.sin(J2+J3)],[-np.sin(J2+J3),0,np.cos(J2+J3)]])\n",
    "print(Rarm)\n",
    "Rarmtranspose=Rarm.transpose()\n",
    "# print(Rarmtranspose)"
   ]
  },
  {
   "cell_type": "code",
   "execution_count": 17,
   "metadata": {},
   "outputs": [
    {
     "name": "stdout",
     "output_type": "stream",
     "text": [
      "[[ 0.60705656 -0.75862024  0.236596  ]\n",
      " [-0.62165786 -0.26790058  0.7360508 ]\n",
      " [-0.49499883 -0.59390623 -0.63423304]]\n"
     ]
    }
   ],
   "source": [
    "R_wrist=Rarmtranspose@R\n",
    "print(R_wrist)\n",
    "# print(R)"
   ]
  },
  {
   "cell_type": "code",
   "execution_count": 18,
   "metadata": {},
   "outputs": [
    {
     "name": "stdout",
     "output_type": "stream",
     "text": [
      "J4 in radian:  -0.8983424590149133\n",
      "J4 in degrees:  -51.47123145895867\n"
     ]
    }
   ],
   "source": [
    "J4=math.atan2(R_wrist[1,0],-R_wrist[2,0])\n",
    "print(\"J4 in radian: \", J4)\n",
    "J4deg=(J4*180/math.pi)\n",
    "print(\"J4 in degrees: \", J4deg)"
   ]
  },
  {
   "cell_type": "code",
   "execution_count": 19,
   "metadata": {},
   "outputs": [
    {
     "name": "stdout",
     "output_type": "stream",
     "text": [
      "J5 in radian:  0.9184450300545653\n",
      "J5 in degrees:  52.62302393689264\n"
     ]
    }
   ],
   "source": [
    "J5=math.atan2(math.sqrt(1-(R_wrist[0,0]**2)),R_wrist[0,0])\n",
    "print(\"J5 in radian: \", J5)\n",
    "J5deg=(J5*180/math.pi)\n",
    "print(\"J5 in degrees: \", J5deg)"
   ]
  },
  {
   "cell_type": "code",
   "execution_count": 23,
   "metadata": {
    "scrolled": true
   },
   "outputs": [
    {
     "name": "stdout",
     "output_type": "stream",
     "text": [
      "J6 in radian:  -1.2684793720808196\n",
      "J6 in degrees:  -72.67851441963576\n"
     ]
    }
   ],
   "source": [
    "J6=math.atan2(R_wrist[0,1],R_wrist[0,2])\n",
    "print(\"J6 in radian: \", J6)\n",
    "J6deg=(J6*180/math.pi)\n",
    "print(\"J6 in degrees: \", J6deg)"
   ]
  },
  {
   "cell_type": "code",
   "execution_count": null,
   "metadata": {},
   "outputs": [],
   "source": []
  },
  {
   "cell_type": "code",
   "execution_count": null,
   "metadata": {},
   "outputs": [],
   "source": []
  }
 ],
 "metadata": {
  "kernelspec": {
   "display_name": "Python 3",
   "language": "python",
   "name": "python3"
  },
  "language_info": {
   "codemirror_mode": {
    "name": "ipython",
    "version": 3
   },
   "file_extension": ".py",
   "mimetype": "text/x-python",
   "name": "python",
   "nbconvert_exporter": "python",
   "pygments_lexer": "ipython3",
   "version": "3.7.4"
  }
 },
 "nbformat": 4,
 "nbformat_minor": 2
}
