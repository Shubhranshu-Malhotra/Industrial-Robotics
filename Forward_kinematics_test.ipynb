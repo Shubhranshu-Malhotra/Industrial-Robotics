{
 "cells": [
  {
   "cell_type": "code",
   "execution_count": 1,
   "metadata": {},
   "outputs": [],
   "source": [
    "import numpy as np\n",
    "import math"
   ]
  },
  {
   "cell_type": "code",
   "execution_count": 2,
   "metadata": {},
   "outputs": [],
   "source": [
    "a1z=650\n",
    "a2x=400\n",
    "a2z=680\n",
    "a3z=1100\n",
    "a4z=230\n",
    "a4x=766\n",
    "a5x=345\n",
    "a6x=244"
   ]
  },
  {
   "cell_type": "code",
   "execution_count": 3,
   "metadata": {},
   "outputs": [],
   "source": [
    "J1=130*math.pi/180\n",
    "J2=-60*math.pi/180\n",
    "J3=30*math.pi/180\n",
    "J4=60*math.pi/180\n",
    "J5=-90*math.pi/180\n",
    "J6=60*math.pi/180"
   ]
  },
  {
   "cell_type": "code",
   "execution_count": 4,
   "metadata": {},
   "outputs": [],
   "source": [
    "T1=np.array([[np.cos(J1),-np.sin(J1),0,0],[np.sin(J1),np.cos(J1),0,0],[0,0,1,a1z],[0,0,0,1]])\n",
    "\n",
    "T2=np.array([[np.cos(J2),0,np.sin(J2),a2x],[0,1,0,0],[-np.sin(J2),0,np.cos(J2),a2z],[0,0,0,1]])\n",
    "\n",
    "T3=np.array([[np.cos(J3),0,np.sin(J3),0],[0,1,0,0],[-np.sin(J3),0,np.cos(J3),a3z],[0,0,0,1]])\n",
    "\n",
    "T4=np.array([[1,0,0,a4x],[0,np.cos(J4),-np.sin(J4),0],[0,np.sin(J4),np.cos(J4),a4z],[0,0,0,1]])\n",
    "\n",
    "T5=np.array([[np.cos(J5),0,np.sin(J5),a5x],[0,1,0,0],[-np.sin(J5),0,np.cos(J5),0],[0,0,0,1]])\n",
    "\n",
    "T6=np.array([[1,0,0,a6x],[0,np.cos(J6),-np.sin(J6),0],[0,np.sin(J6),np.cos(J6),0],[0,0,0,1]])\n",
    "\n",
    "Or=np.array([0,0,0,1])\n",
    "\n",
    "TCP = T1@T2@T3@T4@T5@T6@Or"
   ]
  },
  {
   "cell_type": "code",
   "execution_count": 5,
   "metadata": {},
   "outputs": [
    {
     "data": {
      "text/plain": [
       "array([1.17652044e+01, 3.14719086e+02, 2.74034094e+03, 1.00000000e+00])"
      ]
     },
     "execution_count": 5,
     "metadata": {},
     "output_type": "execute_result"
    }
   ],
   "source": [
    "TCP"
   ]
  },
  {
   "cell_type": "code",
   "execution_count": 6,
   "metadata": {},
   "outputs": [],
   "source": [
    "R1=np.array([[np.cos(J1),-np.sin(J1),0],[np.sin(J1),np.cos(J1),0],[0,0,1]])\n",
    "\n",
    "R2=np.array([[np.cos(J2),0,np.sin(J2)],[0,1,0],[-np.sin(J2),0,np.cos(J2)]])\n",
    "\n",
    "R3=np.array([[np.cos(J3),0,np.sin(J3)],[0,1,0],[-np.sin(J3),0,np.cos(J3)]])\n",
    "\n",
    "R4=np.array([[1,0,0],[0,np.cos(J4),-np.sin(J4)],[0,np.sin(J4),np.cos(J4)]])\n",
    "\n",
    "R5=np.array([[np.cos(J5),0,np.sin(J5)],[0,1,0],[-np.sin(J5),0,np.cos(J5)]])\n",
    "\n",
    "R6=np.array([[1,0,0],[0,np.cos(J6),-np.sin(J6)],[0,np.sin(J6),np.cos(J6)]])\n"
   ]
  },
  {
   "cell_type": "code",
   "execution_count": 7,
   "metadata": {},
   "outputs": [],
   "source": [
    "R=R1@R2@R3@R4@R5@R6"
   ]
  },
  {
   "cell_type": "code",
   "execution_count": 8,
   "metadata": {},
   "outputs": [
    {
     "data": {
      "text/plain": [
       "array([[ 0.82411085,  0.4297472 ,  0.36899682],\n",
       "       [ 0.36515929, -0.90108372,  0.23389489],\n",
       "       [ 0.4330127 , -0.0580127 , -0.89951905]])"
      ]
     },
     "execution_count": 8,
     "metadata": {},
     "output_type": "execute_result"
    }
   ],
   "source": [
    "R"
   ]
  },
  {
   "cell_type": "code",
   "execution_count": 19,
   "metadata": {},
   "outputs": [],
   "source": [
    "A=math.atan2(R[2,1],R[2,2])"
   ]
  },
  {
   "cell_type": "code",
   "execution_count": 20,
   "metadata": {},
   "outputs": [],
   "source": [
    "B=math.atan2(-R[2,0],math.sqrt(1-(R[2,0]*R[2,0])))"
   ]
  },
  {
   "cell_type": "code",
   "execution_count": 21,
   "metadata": {},
   "outputs": [],
   "source": [
    "C=math.atan2(R[1,0],R[0,0])"
   ]
  },
  {
   "cell_type": "code",
   "execution_count": 22,
   "metadata": {},
   "outputs": [],
   "source": [
    "Adeg=A*180/math.pi\n",
    "Bdeg=B*180/math.pi\n",
    "Cdeg=C*180/math.pi"
   ]
  },
  {
   "cell_type": "code",
   "execution_count": 23,
   "metadata": {},
   "outputs": [
    {
     "name": "stdout",
     "output_type": "stream",
     "text": [
      "-176.30993247402023\n",
      "-25.658906273255297\n",
      "23.897886248013986\n"
     ]
    }
   ],
   "source": [
    "print(Adeg)\n",
    "print(Bdeg)\n",
    "print(Cdeg)"
   ]
  },
  {
   "cell_type": "code",
   "execution_count": null,
   "metadata": {},
   "outputs": [],
   "source": []
  }
 ],
 "metadata": {
  "kernelspec": {
   "display_name": "Python 3",
   "language": "python",
   "name": "python3"
  },
  "language_info": {
   "codemirror_mode": {
    "name": "ipython",
    "version": 3
   },
   "file_extension": ".py",
   "mimetype": "text/x-python",
   "name": "python",
   "nbconvert_exporter": "python",
   "pygments_lexer": "ipython3",
   "version": "3.7.4"
  }
 },
 "nbformat": 4,
 "nbformat_minor": 2
}
